{
 "cells": [
  {
   "cell_type": "code",
   "execution_count": 49,
   "metadata": {},
   "outputs": [
    {
     "name": "stderr",
     "output_type": "stream",
     "text": [
      "\n",
      "Bad key \"text.kerning_factor\" on line 4 in\n",
      "/Users/michiomorizono/opt/miniconda3/lib/python3.7/site-packages/matplotlib/mpl-data/stylelib/_classic_test_patch.mplstyle.\n",
      "You probably need to get an updated matplotlibrc file from\n",
      "https://github.com/matplotlib/matplotlib/blob/v3.1.3/matplotlibrc.template\n",
      "or from the matplotlib source distribution\n"
     ]
    }
   ],
   "source": [
    "import numpy as np\n",
    "import random\n",
    "import math\n",
    "from matplotlib import pyplot as plt"
   ]
  },
  {
   "cell_type": "markdown",
   "metadata": {},
   "source": [
    "Format What flavors denote\n",
    "e.x. red: \\[min attraction radius, max attraction radius, max/min attraction magnitude,sign (1 or -1)\\]\n",
    "- from 0 to min attraction radius, positive force (repulsion)  modeled by const\\*(x-min_radius)\\*\\*2 \n",
    "- from min to max attraction radius, force modeled by absolute value function -sign*|2*max_mag/(min+max)(x-(min+max)/2)-max_mag| \n",
    "- beyond max, the force is 0"
   ]
  },
  {
   "cell_type": "code",
   "execution_count": 36,
   "metadata": {},
   "outputs": [],
   "source": [
    "global flavors\n",
    "flavors = {\"red\": [1,2,3,1],\"blue\": [0.5,1.5,4,-1], \"green\": [0.75,1.75,2,1], \"yellow\": [1,3,0.5,-1]}"
   ]
  },
  {
   "cell_type": "code",
   "execution_count": 37,
   "metadata": {},
   "outputs": [],
   "source": [
    "class Particle:\n",
    "    def __init__(self,x,y,flavor, mass,v):\n",
    "        self.x = x\n",
    "        self.y = y\n",
    "        self.flavor = flavor\n",
    "        self.mass = mass\n",
    "        self.v = v\n",
    "    def distance(self, x, y):\n",
    "        return math.sqrt((self.x-x)**2 + (self.y-y)**2)\n",
    "    def getForce(self, particle):\n",
    "        \n",
    "        dist = self.distance(particle.x, particle.y)\n",
    "        minrad = flavors[particle.flavor][0]\n",
    "        maxrad = flavors[particle.flavor][1]\n",
    "        maxmag = flavors[particle.flavor][2]\n",
    "        sign = flavors[particle.flavor][3]\n",
    "        try:\n",
    "            angle = math.atan((self.y-particle.y)/(self.x-particle.x))\n",
    "        except:\n",
    "            angle = 1.57079632679\n",
    "        \n",
    "        if dist < minrad:\n",
    "            force = 10*(dist-minrad)**2\n",
    "        elif dist > minrad and dist < maxrad:\n",
    "            force = -1*sign*abs(2*maxmag/(minrad+maxrad)*(dist-(minrad+maxrad)/2)-maxmag)\n",
    "        else:\n",
    "            force = 0\n",
    "        \n",
    "        return [force, angle]"
   ]
  },
  {
   "cell_type": "markdown",
   "metadata": {},
   "source": [
    "Testing if force calculations work"
   ]
  },
  {
   "cell_type": "code",
   "execution_count": 78,
   "metadata": {},
   "outputs": [
    {
     "name": "stdout",
     "output_type": "stream",
     "text": [
      "[3.2, 1.57079632679]\n",
      "[-3.6, 1.57079632679]\n"
     ]
    }
   ],
   "source": [
    "particle1 = Particle(0,0,\"red\", 1,0)\n",
    "particle2 = Particle(0,1.2,\"blue\", 1,0)\n",
    "particle3 = Particle(1,0,\"green\",1,0)\n",
    "print(particle1.getForce(particle2))\n",
    "print(particle2.getForce(particle1))"
   ]
  },
  {
   "cell_type": "markdown",
   "metadata": {},
   "source": [
    "Use kinematic equations to move particles around:\n",
    "- x += v\\*cos(theta)t+1/2a\\*cos(theta)\\*t^2\n",
    "- y += v\\*sin(theta)t+1/2a\\*sin(theta)\\*t^2\n",
    "- v += a\\*t"
   ]
  },
  {
   "cell_type": "code",
   "execution_count": 80,
   "metadata": {},
   "outputs": [
    {
     "data": {
      "text/plain": [
       "<matplotlib.collections.PathCollection at 0x117ebe190>"
      ]
     },
     "execution_count": 80,
     "metadata": {},
     "output_type": "execute_result"
    },
    {
     "data": {
      "image/png": "[encoded data removed]",
      "text/plain": [
       "<Figure size 432x288 with 1 Axes>"
      ]
     },
     "metadata": {
      "needs_background": "light"
     },
     "output_type": "display_data"
    }
   ],
   "source": [
    "universe = [particle1,particle2,particle3]\n",
    "step = 0\n",
    "dt = 0.001\n",
    "x_coords = []\n",
    "y_coords = []\n",
    "while step<1000:\n",
    "    x_coords.append(universe[0].x*500)\n",
    "    y_coords.append(universe[0].y*500)\n",
    "    for i in range(len(universe)):\n",
    "        net_magnitude = 0\n",
    "        net_direction = 0\n",
    "        for j in range(len(universe)):\n",
    "            if i==j:\n",
    "                pass\n",
    "            else:\n",
    "                force = universe[i].getForce(universe[j])\n",
    "                net_magnitude+=force[0]\n",
    "                net_direction+=force[1]\n",
    "        universe[i].x+=universe[i].v*math.cos(net_direction)*dt+1/2*net_magnitude*math.cos(net_direction)/universe[i].mass*(dt**2)\n",
    "        universe[i].y+=universe[i].v*math.sin(net_direction)*dt+1/2*net_magnitude*math.sin(net_direction)/universe[i].mass*(dt**2)\n",
    "        universe[i].v+=net_magnitude*dt\n",
    "    \n",
    "    step+=1\n",
    "plt.scatter(x_coords, y_coords)"
   ]
  },
  {
   "cell_type": "code",
   "execution_count": null,
   "metadata": {},
   "outputs": [],
   "source": []
  },
  {
   "cell_type": "code",
   "execution_count": null,
   "metadata": {},
   "outputs": [],
   "source": []
  }
 ],
 "metadata": {
  "kernelspec": {
   "display_name": "Python 3",
   "language": "python",
   "name": "python3"
  },
  "language_info": {
   "codemirror_mode": {
    "name": "ipython",
    "version": 3
   },
   "file_extension": ".py",
   "mimetype": "text/x-python",
   "name": "python",
   "nbconvert_exporter": "python",
   "pygments_lexer": "ipython3",
   "version": "3.7.6"
  }
 },
 "nbformat": 4,
 "nbformat_minor": 4
}
